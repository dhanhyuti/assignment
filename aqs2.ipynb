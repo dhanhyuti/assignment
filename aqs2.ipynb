{
  "nbformat": 4,
  "nbformat_minor": 0,
  "metadata": {
    "colab": {
      "provenance": [],
      "authorship_tag": "ABX9TyP55X3n96n1lX/gOpyrQYfL",
      "include_colab_link": true
    },
    "kernelspec": {
      "name": "python3",
      "display_name": "Python 3"
    },
    "language_info": {
      "name": "python"
    }
  },
  "cells": [
    {
      "cell_type": "markdown",
      "metadata": {
        "id": "view-in-github",
        "colab_type": "text"
      },
      "source": [
        "<a href=\"https://colab.research.google.com/github/dhanhyuti/assignment/blob/main/aqs2.ipynb\" target=\"_parent\"><img src=\"https://colab.research.google.com/assets/colab-badge.svg\" alt=\"Open In Colab\"/></a>"
      ]
    },
    {
      "cell_type": "code",
      "source": [
        "import pandas as pd\n",
        "\n",
        "df_account = pd.DataFrame({\n",
        "    'AcNo': ['A00023', 'A00121', 'A00234', 'A01208', 'A01208', 'A00789', 'A00893', 'A00987'],\n",
        "    'CustID': ['C02', 'C01', 'C02', 'C06', 'C01', 'C04', 'C05', 'C03'],\n",
        "    'Type': ['Savings', 'Current', 'Current', 'Current', 'Current', 'Savings', 'Savings', 'Current'],\n",
        "    'Branch': ['B04', 'B01', 'B04', 'B02', 'B02', 'B04', 'B06', 'B02'],\n",
        "    'Balance': [90000, 80567, 12000, 45000, 45000, 4500, 67900, 78600]\n",
        "})"
      ],
      "metadata": {
        "id": "Viiefs4ReONX"
      },
      "execution_count": 22,
      "outputs": []
    },
    {
      "cell_type": "code",
      "source": [
        "print(df_account[['CustID', 'Type']])"
      ],
      "metadata": {
        "colab": {
          "base_uri": "https://localhost:8080/"
        },
        "id": "alFu2ZH6efMb",
        "outputId": "3c4dc07c-ad18-4a7d-a291-69dd503c0e53"
      },
      "execution_count": 23,
      "outputs": [
        {
          "output_type": "stream",
          "name": "stdout",
          "text": [
            "  CustID     Type\n",
            "0    C02  Savings\n",
            "1    C01  Current\n",
            "2    C02  Current\n",
            "3    C06  Current\n",
            "4    C01  Current\n",
            "5    C04  Savings\n",
            "6    C05  Savings\n",
            "7    C03  Current\n"
          ]
        }
      ]
    },
    {
      "cell_type": "code",
      "source": [
        "print(df_account.iloc[3:7])"
      ],
      "metadata": {
        "colab": {
          "base_uri": "https://localhost:8080/"
        },
        "id": "z4-KXHWoepuP",
        "outputId": "f3c3ec6c-6c91-4d5e-fd99-5b8dd6852b59"
      },
      "execution_count": 24,
      "outputs": [
        {
          "output_type": "stream",
          "name": "stdout",
          "text": [
            "     AcNo CustID     Type Branch  Balance\n",
            "3  A01208    C06  Current    B02    45000\n",
            "4  A01208    C01  Current    B02    45000\n",
            "5  A00789    C04  Savings    B04     4500\n",
            "6  A00893    C05  Savings    B06    67900\n"
          ]
        }
      ]
    },
    {
      "cell_type": "code",
      "source": [
        "print(df_account.columns)"
      ],
      "metadata": {
        "colab": {
          "base_uri": "https://localhost:8080/"
        },
        "id": "xeUcHgbxfRcB",
        "outputId": "ec87460f-5453-4bd0-9067-49522ac5b687"
      },
      "execution_count": 25,
      "outputs": [
        {
          "output_type": "stream",
          "name": "stdout",
          "text": [
            "Index(['AcNo', 'CustID', 'Type', 'Branch', 'Balance'], dtype='object')\n"
          ]
        }
      ]
    },
    {
      "cell_type": "code",
      "source": [
        "print(df_account[(df_account['Balance'] >= 30000) & (df_account['Balance'] <= 40000)])"
      ],
      "metadata": {
        "colab": {
          "base_uri": "https://localhost:8080/"
        },
        "id": "EIkmmzRdfXwG",
        "outputId": "40bd988e-2a5e-4608-8840-114a57910299"
      },
      "execution_count": 27,
      "outputs": [
        {
          "output_type": "stream",
          "name": "stdout",
          "text": [
            "Empty DataFrame\n",
            "Columns: [AcNo, CustID, Type, Branch, Balance]\n",
            "Index: []\n"
          ]
        }
      ]
    },
    {
      "cell_type": "code",
      "source": [
        "print(df_account[(df_account['Type'] == 'Savings') & (df_account['Branch'] == 'B04')])"
      ],
      "metadata": {
        "colab": {
          "base_uri": "https://localhost:8080/"
        },
        "id": "SlaiWny3f8dq",
        "outputId": "16b5c1c2-4882-4094-c2c1-08460046ee9e"
      },
      "execution_count": 28,
      "outputs": [
        {
          "output_type": "stream",
          "name": "stdout",
          "text": [
            "     AcNo CustID     Type Branch  Balance\n",
            "0  A00023    C02  Savings    B04    90000\n",
            "5  A00789    C04  Savings    B04     4500\n"
          ]
        }
      ]
    },
    {
      "cell_type": "code",
      "source": [
        "print(df_account.groupby('Branch')['Balance'].mean())"
      ],
      "metadata": {
        "colab": {
          "base_uri": "https://localhost:8080/"
        },
        "id": "kDMNp1fZgMfx",
        "outputId": "0bdba562-1ce5-46c0-c885-97fdc9411064"
      },
      "execution_count": 29,
      "outputs": [
        {
          "output_type": "stream",
          "name": "stdout",
          "text": [
            "Branch\n",
            "B01    80567.0\n",
            "B02    56200.0\n",
            "B04    35500.0\n",
            "B06    67900.0\n",
            "Name: Balance, dtype: float64\n"
          ]
        }
      ]
    },
    {
      "cell_type": "code",
      "source": [
        "import matplotlib.pyplot as plt\n",
        "\n",
        "branch_counts = df_account['Branch'].value_counts()\n",
        "branch_counts.plot(kind='bar')\n",
        "plt.xlabel('Branch')\n",
        "plt.ylabel('Number of Accounts')\n",
        "plt.title('Number of Accounts per Branch')\n",
        "plt.show()"
      ],
      "metadata": {
        "colab": {
          "base_uri": "https://localhost:8080/",
          "height": 485
        },
        "id": "nAZQ4kKUgefx",
        "outputId": "fda1e2ea-45cc-4e51-8842-49f563e6726c"
      },
      "execution_count": 30,
      "outputs": [
        {
          "output_type": "display_data",
          "data": {
            "text/plain": [
              "<Figure size 640x480 with 1 Axes>"
            ],
            "image/png": "[encoded data removed]"
          },
          "metadata": {}
        }
      ]
    },
    {
      "cell_type": "code",
      "source": [
        "print(df_account[df_account['Balance'] > 90000])"
      ],
      "metadata": {
        "colab": {
          "base_uri": "https://localhost:8080/"
        },
        "id": "iGXsib0ghSIL",
        "outputId": "85758075-ac97-4e3c-eb47-df8e65b581a7"
      },
      "execution_count": 31,
      "outputs": [
        {
          "output_type": "stream",
          "name": "stdout",
          "text": [
            "Empty DataFrame\n",
            "Columns: [AcNo, CustID, Type, Branch, Balance]\n",
            "Index: []\n"
          ]
        }
      ]
    }
  ]
}