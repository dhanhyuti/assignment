{
  "nbformat": 4,
  "nbformat_minor": 0,
  "metadata": {
    "colab": {
      "provenance": [],
      "authorship_tag": "ABX9TyPGJH7xLU4jm0nveBJeHb+W",
      "include_colab_link": true
    },
    "kernelspec": {
      "name": "python3",
      "display_name": "Python 3"
    },
    "language_info": {
      "name": "python"
    }
  },
  "cells": [
    {
      "cell_type": "markdown",
      "metadata": {
        "id": "view-in-github",
        "colab_type": "text"
      },
      "source": [
        "<a href=\"https://colab.research.google.com/github/dhanhyuti/assignment/blob/main/create_DF.ipynb\" target=\"_parent\"><img src=\"https://colab.research.google.com/assets/colab-badge.svg\" alt=\"Open In Colab\"/></a>"
      ]
    },
    {
      "cell_type": "code",
      "source": [
        "import pandas as pd"
      ],
      "metadata": {
        "id": "pTLbAZf_b8O5"
      },
      "execution_count": 18,
      "outputs": []
    },
    {
      "cell_type": "code",
      "source": [
        "df_emp = pd.DataFrame({\n",
        "    'employee_id': [101, 102, 103, 104, 105, 106, 107, 108, 109, 110],\n",
        "    'employee_name': ['John Smith', 'Alice Johnson', 'Bob Williams', 'Eva Brown', 'Charlie Davis', 'David Miller', 'Emily Wilson', 'Frank Garcia', 'Grace Rodriguez', 'Henry Martinez'],\n",
        "    'salary': [60000, 75000, 55000, 80000, 65000, 70000, 50000, 90000, 62000, 78000],\n",
        "    'designation': ['Software Engineer', 'Data Scientist', 'Web Developer', 'Project Manager', 'Business Analyst', 'Data Analyst', 'UX Designer', 'DevOps Engineer', 'QA Tester', 'Product Manager']\n",
        "})"
      ],
      "metadata": {
        "id": "A-ErJpdBcAT1"
      },
      "execution_count": 19,
      "outputs": []
    },
    {
      "cell_type": "code",
      "source": [
        "salary_stats = df_emp['salary'].describe()"
      ],
      "metadata": {
        "id": "dF8FD60JcDkR"
      },
      "execution_count": 20,
      "outputs": []
    },
    {
      "cell_type": "code",
      "source": [
        "print(salary_stats)"
      ],
      "metadata": {
        "colab": {
          "base_uri": "https://localhost:8080/"
        },
        "id": "NG7ce6tMcGtg",
        "outputId": "1cc8bca7-0c7a-4e52-d0f5-ea27ade93501"
      },
      "execution_count": 21,
      "outputs": [
        {
          "output_type": "stream",
          "name": "stdout",
          "text": [
            "count       10.000000\n",
            "mean     68500.000000\n",
            "std      12385.026802\n",
            "min      50000.000000\n",
            "25%      60500.000000\n",
            "50%      67500.000000\n",
            "75%      77250.000000\n",
            "max      90000.000000\n",
            "Name: salary, dtype: float64\n"
          ]
        }
      ]
    }
  ]
}