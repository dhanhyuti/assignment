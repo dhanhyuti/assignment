{
  "nbformat": 4,
  "nbformat_minor": 0,
  "metadata": {
    "colab": {
      "provenance": [],
      "authorship_tag": "ABX9TyOyib5EhdT6iMdmyOoOGHrr",
      "include_colab_link": true
    },
    "kernelspec": {
      "name": "python3",
      "display_name": "Python 3"
    },
    "language_info": {
      "name": "python"
    }
  },
  "cells": [
    {
      "cell_type": "markdown",
      "metadata": {
        "id": "view-in-github",
        "colab_type": "text"
      },
      "source": [
        "<a href=\"https://colab.research.google.com/github/dhanhyuti/assignment/blob/main/aqw.ipynb\" target=\"_parent\"><img src=\"https://colab.research.google.com/assets/colab-badge.svg\" alt=\"Open In Colab\"/></a>"
      ]
    },
    {
      "cell_type": "code",
      "source": [
        "def find_largest(num1, num2, num3):\n",
        "\n",
        "  if num1 >= num2 and num1 >= num3:\n",
        "    largest = num1\n",
        "  elif num2 >= num1 and num2 >= num3:\n",
        "    largest = num2\n",
        "  else:\n",
        "    largest = num3\n",
        "\n",
        "  print(f\"The largest number is: {largest}\")\n",
        "\n",
        "num1 = float(input(\"Enter the first number: \"))\n",
        "num2 = float(input(\"Enter the second number: \"))\n",
        "num3 = float(input(\"Enter the third number: \"))\n",
        "\n",
        "find_largest(num1, num2, num3)\n"
      ],
      "metadata": {
        "colab": {
          "base_uri": "https://localhost:8080/"
        },
        "id": "ewi_P5gAPnLS",
        "outputId": "3cefc132-b033-4927-e0e4-7f5cc6f08281"
      },
      "execution_count": 1,
      "outputs": [
        {
          "output_type": "stream",
          "name": "stdout",
          "text": [
            "Enter the first number: 2\n",
            "Enter the second number: 4\n",
            "Enter the third number: 7\n",
            "The largest number is: 7.0\n"
          ]
        }
      ]
    },
    {
      "cell_type": "code",
      "source": [
        "def calculate_factorial(number):\n",
        "\n",
        "  if number < 0:\n",
        "    print(\"Factorial is not defined for negative numbers.\")\n",
        "    return None\n",
        "  elif number == 0:\n",
        "    return 1\n",
        "  else:\n",
        "    factorial = 1\n",
        "    for i in range(1, number + 1):\n",
        "      factorial *= i\n",
        "    return factorial\n",
        "\n",
        "# Get input from the user\n",
        "num = int(input(\"Enter a number: \"))\n",
        "\n",
        "# Calculate and print the factorial\n",
        "factorial_result = calculate_factorial(num)\n",
        "if factorial_result is not None:\n",
        "  print(f\"The factorial of {num} is: {factorial_result}\")\n",
        "\n",
        "# To see the output, run the code."
      ],
      "metadata": {
        "colab": {
          "base_uri": "https://localhost:8080/"
        },
        "id": "0W-u47WFQG4k",
        "outputId": "f80bae8a-5ccd-49da-f1b8-f97d8c5983d1"
      },
      "execution_count": 3,
      "outputs": [
        {
          "output_type": "stream",
          "name": "stdout",
          "text": [
            "Enter a number: 4\n",
            "The factorial of 4 is: 24\n"
          ]
        }
      ]
    },
    {
      "cell_type": "code",
      "source": [
        "def perform_arithmetic_operations():\n",
        "  \"\"\"Accepts two numbers and performs arithmetic operations.\"\"\"\n",
        "\n",
        "  num1 = float(input(\"Enter the first number: \"))\n",
        "  num2 = float(input(\"Enter the second number: \"))\n",
        "\n",
        "  print(f\"Addition: {num1 + num2}\")\n",
        "  print(f\"Subtraction: {num1 - num2}\")\n",
        "  print(f\"Multiplication: {num1 * num2}\")\n",
        "  print(f\"Division: {num1 / num2}\")\n",
        "  print(f\"Modulus: {num1 % num2}\")\n",
        "\n",
        "def sum_of_digits():\n",
        "  \"\"\"Accepts a number and prints the sum of its digits.\"\"\"\n",
        "\n",
        "  number = int(input(\"Enter a number: \"))\n",
        "  sum_digits = 0\n",
        "\n",
        "  while number > 0:\n",
        "    digit = number % 10\n",
        "    sum_digits += digit\n",
        "    number //= 10\n",
        "\n",
        "  print(f\"Sum of digits: {sum_digits}\")\n",
        "\n",
        "# Call the functions\n",
        "perform_arithmetic_operations()\n",
        "sum_of_digits()\n",
        "\n",
        "# To see the output, run the code."
      ],
      "metadata": {
        "colab": {
          "base_uri": "https://localhost:8080/"
        },
        "id": "y7JaN3M1RxKl",
        "outputId": "21203ff5-020c-4854-8d42-6b3c5b294bd4"
      },
      "execution_count": 4,
      "outputs": [
        {
          "output_type": "stream",
          "name": "stdout",
          "text": [
            "Enter the first number: 12\n",
            "Enter the second number: 12\n",
            "Addition: 24.0\n",
            "Subtraction: 0.0\n",
            "Multiplication: 144.0\n",
            "Division: 1.0\n",
            "Modulus: 0.0\n",
            "Enter a number: 2\n",
            "Sum of digits: 2\n"
          ]
        }
      ]
    },
    {
      "cell_type": "code",
      "source": [
        "def find_largest(num1, num2, num3):\n",
        "  \"\"\"Finds and prints the largest of three numbers using logical operators.\"\"\"\n",
        "\n",
        "  if num1 >= num2 and num1 >= num3:\n",
        "    largest = num1\n",
        "  elif num2 >= num1 and num2 >= num3:\n",
        "    largest = num2\n",
        "  else:\n",
        "    largest = num3\n",
        "\n",
        "  print(f\"The largest number is: {largest}\")\n",
        "\n",
        "# Get input from the user\n",
        "num1 = float(input(\"Enter the first number: \"))\n",
        "num2 = float(input(\"Enter the second number: \"))\n",
        "num3 = float(input(\"Enter the third number: \"))\n",
        "\n",
        "# Call the function to find the largest\n",
        "find_largest(num1, num2, num3)\n",
        "\n",
        "# To see the output, run the code."
      ],
      "metadata": {
        "colab": {
          "base_uri": "https://localhost:8080/"
        },
        "id": "PeDFdhTbSXTg",
        "outputId": "c0c2bf8d-f07c-49cc-e37e-337efdee786f"
      },
      "execution_count": 5,
      "outputs": [
        {
          "output_type": "stream",
          "name": "stdout",
          "text": [
            "Enter the first number: 11\n",
            "Enter the second number: 11\n",
            "Enter the third number: 12\n",
            "The largest number is: 12.0\n"
          ]
        }
      ]
    },
    {
      "cell_type": "code",
      "source": [
        "def calculate_factorial(number):\n",
        "  \"\"\"Calculates and prints the factorial of a number.\"\"\"\n",
        "\n",
        "  if number < 0:\n",
        "    print(\"Factorial is not defined for negative numbers.\")\n",
        "    return None\n",
        "  elif number == 0:\n",
        "    return 1\n",
        "  else:\n",
        "    factorial = 1\n",
        "    for i in range(1, number + 1):\n",
        "      factorial *= i\n",
        "    return factorial\n",
        "\n",
        "# Get input from the user\n",
        "num = int(input(\"Enter a number: \"))\n",
        "\n",
        "# Calculate and print the factorial\n",
        "factorial_result = calculate_factorial(num)\n",
        "if factorial_result is not None:\n",
        "  print(f\"The factorial of {num} is: {factorial_result}\")\n",
        "\n",
        "# To see the output, run the code."
      ],
      "metadata": {
        "colab": {
          "base_uri": "https://localhost:8080/"
        },
        "id": "JktXMZH5ShQm",
        "outputId": "6eff07a0-5266-4026-9428-89a9094d9a1c"
      },
      "execution_count": 6,
      "outputs": [
        {
          "output_type": "stream",
          "name": "stdout",
          "text": [
            "Enter a number: 10\n",
            "The factorial of 10 is: 3628800\n"
          ]
        }
      ]
    },
    {
      "cell_type": "code",
      "source": [
        "def is_even(number):\n",
        "  \"\"\"Checks if a number is even using a while loop.\"\"\"\n",
        "\n",
        "  while number > 0:\n",
        "    number -= 2  # Repeatedly subtract 2\n",
        "    if number == 0:\n",
        "      return True  # If the number becomes 0, it's even\n",
        "    elif number < 0:\n",
        "      return False  # If the number becomes negative, it's odd\n",
        "  return True  # If the number was 0 initially, it's even\n",
        "\n",
        "# Get input from the user\n",
        "num = int(input(\"Enter a number: \"))\n",
        "\n",
        "# Check and print if the number is even\n",
        "if is_even(num):\n",
        "  print(f\"{num} is even\")\n",
        "else:\n",
        "  print(f\"{num} is odd\")\n",
        "\n",
        "# To see the output, run the code."
      ],
      "metadata": {
        "colab": {
          "base_uri": "https://localhost:8080/"
        },
        "id": "n_Z_kHfrTBjv",
        "outputId": "5a95639b-debc-421f-a635-646772a2f6fe"
      },
      "execution_count": 7,
      "outputs": [
        {
          "output_type": "stream",
          "name": "stdout",
          "text": [
            "Enter a number: 3\n",
            "3 is odd\n"
          ]
        }
      ]
    },
    {
      "cell_type": "code",
      "source": [
        "def dynsum(*numbers):\n",
        "  \"\"\"Calculates the sum of a dynamic list of numbers.\"\"\"\n",
        "\n",
        "  total_sum = 0\n",
        "  for number in numbers:\n",
        "    total_sum += number\n",
        "  return total_sum\n",
        "\n",
        "# Get input from the user\n",
        "num_list = []\n",
        "while True:\n",
        "  num_str = input(\"Enter a number (or 'done' to finish): \")\n",
        "  if num_str == 'done':\n",
        "    break\n",
        "  try:\n",
        "    num = float(num_str)\n",
        "    num_list.append(num)\n",
        "  except ValueError:\n",
        "    print(\"Invalid input. Please enter a number or 'done'.\")\n",
        "\n",
        "# Calculate and print the sum\n",
        "result = dynsum(*num_list)  # Unpack the list using *\n",
        "print(f\"The sum is: {result}\")\n",
        "\n",
        "# To see the output, run the code."
      ],
      "metadata": {
        "colab": {
          "base_uri": "https://localhost:8080/"
        },
        "id": "HbExOSnvTzFe",
        "outputId": "1d0daa3f-94a0-44cf-804c-860e9543fa22"
      },
      "execution_count": 8,
      "outputs": [
        {
          "output_type": "stream",
          "name": "stdout",
          "text": [
            "Enter a number (or 'done' to finish): 3\n",
            "Enter a number (or 'done' to finish): 4\n",
            "Enter a number (or 'done' to finish): 5\n",
            "Enter a number (or 'done' to finish): \n",
            "Invalid input. Please enter a number or 'done'.\n",
            "Enter a number (or 'done' to finish): done\n",
            "The sum is: 12.0\n"
          ]
        }
      ]
    }
  ]
}